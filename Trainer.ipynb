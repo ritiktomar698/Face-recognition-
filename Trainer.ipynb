{
 "cells": [
  {
   "cell_type": "code",
   "execution_count": 1,
   "metadata": {},
   "outputs": [],
   "source": [
    "import numpy as np\n",
    "import cv2\n",
    "import os\n",
    "from PIL import Image"
   ]
  },
  {
   "cell_type": "code",
   "execution_count": 2,
   "metadata": {},
   "outputs": [],
   "source": [
    "recognizer = cv2.face.LBPHFaceRecognizer_create()\n",
    "detector= cv2.CascadeClassifier(\"haarcascade_frontalface_default.xml\")\n",
    "\n",
    "def getImagesAndLabels(path):\n",
    "    imagePaths=[os.path.join(path,f) for f in os.listdir(path)] \n",
    "    faceSamples=[]\n",
    "    Ids=[]\n",
    "    for imagePath in imagePaths:\n",
    "        if(os.path.split(imagePath)[-1].split(\".\")[-1]!='jpg'):\n",
    "            continue\n",
    "        pilImage=Image.open(imagePath).convert('L')\n",
    "        imageNp=np.array(pilImage,'uint8')\n",
    "        Id=int(os.path.split(imagePath)[-1].split(\".\")[1])\n",
    "        faces=detector.detectMultiScale(imageNp)\n",
    "        for (x,y,w,h) in faces:\n",
    "            faceSamples.append(imageNp[y:y+h,x:x+w])\n",
    "            Ids.append(Id)\n",
    "    return faceSamples,Ids\n",
    "\n",
    "\n",
    "faces,Ids = getImagesAndLabels('dataset')\n",
    "recognizer.train(faces, np.array(Ids))\n",
    "recognizer.save('trainer/trainer.yml')"
   ]
  },
  {
   "cell_type": "code",
   "execution_count": null,
   "metadata": {},
   "outputs": [],
   "source": []
  },
  {
   "cell_type": "code",
   "execution_count": null,
   "metadata": {},
   "outputs": [],
   "source": []
  },
  {
   "cell_type": "code",
   "execution_count": null,
   "metadata": {},
   "outputs": [],
   "source": []
  }
 ],
 "metadata": {
  "kernelspec": {
   "display_name": "Python 3",
   "language": "python",
   "name": "python3"
  },
  "language_info": {
   "codemirror_mode": {
    "name": "ipython",
    "version": 3
   },
   "file_extension": ".py",
   "mimetype": "text/x-python",
   "name": "python",
   "nbconvert_exporter": "python",
   "pygments_lexer": "ipython3",
   "version": "3.8.3"
  }
 },
 "nbformat": 4,
 "nbformat_minor": 4
}
